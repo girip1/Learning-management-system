#creation of relational database
import sqlite3

conn = sqlite3.connect("trial.db")
c = conn.cursor()

#Creating the tables for the database
#First we create table for faculty with 4 parameters, ID, F_name, L_name, Password

try:
    c.execute('''CREATE TABLE faculty (
        faculty_id text PRIMARY KEY NOT NULL,
        faculty_first_name text NOT NULL,
        faculty_last_name text NOT NULL,
        password NOT NULL,
       FOREIGN KEY (faculty_id) REFERENCES course(student_id) )''')
except sqlite3.OperationalError as e:
    print('sqlite error:', e.args[0])  # table already exists

conn.commit()
# Function asking for input for parameters: ID, F_name, L_name, Password

def add_faculty_info():
    with conn:
        fac_id= input("Please enter Faculty ID")
        first_name= input("please enter faculty first name")
        last_name= input("faculty last name")
        password_fac= input("enter password")
        c.execute("INSERT INTO faculty (faculty_id,faculty_first_name, faculty_last_name, password) values (?, ?, ?, ?)",
                (fac_id, first_name,last_name, password_fac))

def tabletestF():
    c.execute("SELECT* FROM faculty")
    rows=c.fetchall()
    
    for row in rows:
        print(row)

print('******faculty table******')
tabletestF()

#NOT EXACTLY SURE WHY THESE ----> are needed?
conn.commit()
#c.fetchone()
rows=c.fetchall() 
for row in rows:
     print(row)


#************************************************************************************************
#we now try the student table with 4 parameters, ID, F_name, L_name, Password

try:
    
    c.execute('''CREATE TABLE student (
        student_id text PRIMARY KEY NOT NULL,
        first_name text NOT NULL,
        last_name text NOT NULL,
        password_stu NOT NULL,
       FOREIGN KEY (student_id) REFERENCES course(student_id) )''')
except sqlite3.OperationalError as e:
    print('sqlite error:', e.args[0])  # table already exists

conn.commit()

# Function asking for input for parameters: ID, F_name, L_name, Password


def add_newStudent():
    with conn:
        s_id= input("please enter Student ID number")
        firstName= input("enter student first name")
        lastName= input("enter student last name")
        password_s= input("enter password")
        c.execute("INSERT INTO STUDENT (student_id,first_name, last_name, password_stu) values (?, ?, ?, ?)",
                (s_id, firstName, lastName,password_s))
    

def tabletestPS():
    c.execute("SELECT* FROM passwordS")
    rows=c.fetchall()
    
    for row in rows:
        print(row)


print('******student table******')
tabletestPS()

#NOT EXACTLY SURE WHY THESE ----> are needed?
conn.commit()
#c.fetchone()
rows=c.fetchall() 
for row in rows:
     print(row)
