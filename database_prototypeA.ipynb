{
 "cells": [
  {
   "cell_type": "code",
   "execution_count": 2,
   "metadata": {},
   "outputs": [
    {
     "name": "stdout",
     "output_type": "stream",
     "text": [
      "done\n"
     ]
    }
   ],
   "source": [
    "import sqlite3\n",
    "\n",
    "conn = sqlite3.connect(\"student.db\")\n",
    "c = conn.cursor()\n",
    "\n",
    "try:\n",
    "    c.execute('''CREATE TABLE student (\n",
    "        student_id text PRIMARY KEY NOT NULL,\n",
    "        first_name text NOT NULL,\n",
    "        last_name text NOT NULL)''')\n",
    "except sqlite3.OperationalError as e:\n",
    "    print('sqlite error:', e.args[0])  # table already exists\n",
    "\n",
    "conn.commit()\n",
    "\n",
    "\n",
    "\n",
    "print('done')"
   ]
  },
  {
   "cell_type": "code",
   "execution_count": 17,
   "metadata": {},
   "outputs": [
    {
     "name": "stdout",
     "output_type": "stream",
     "text": [
      "('s1', 'john', 'williams')\n",
      "('s2', 'michelle', 'sorenson')\n",
      "('s3', 'william smithson', 'smithson')\n",
      "('s4', 'miguel', 'posada')\n",
      "enter student id of the student you want to update information ons1\n",
      "enter new value?walter\n",
      "('s1', 'walter', 'williams')\n",
      "('s2', 'michelle', 'sorenson')\n",
      "('s3', 'william smithson', 'smithson')\n",
      "('s4', 'miguel', 'posada')\n"
     ]
    }
   ],
   "source": [
    "def add_newStudent():\n",
    "    with conn:\n",
    "        s_id= input(\"please enter new id number\")\n",
    "        firstName= input(\"enter first name\")\n",
    "        lastName= input(\"enter last name\")\n",
    "        #c.execute(\"INSERT INTO students VALUES('studentId', 'firstName', 'lastName')\")\n",
    "        c.execute(\"INSERT INTO STUDENT (student_id,first_name, last_name) values (?, ?, ?)\",\n",
    "                (s_id, firstName, lastName))\n",
    "    \n",
    "def search_student():\n",
    "    with conn:\n",
    "        student_id=input(\"enter student ID you want to search\")\n",
    "        c.execute(\"SELECT * FROM student WHERE student_id= ?\",(student_id,))\n",
    "        conn.commit()\n",
    "        return c.fetchone()\n",
    "    \n",
    "def tabletest():\n",
    "    c.execute(\"SELECT* FROM student\")\n",
    "    rows=c.fetchall()\n",
    "    \n",
    "    for row in rows:\n",
    "        print(row)\n",
    "        \n",
    "def delete_student():\n",
    "    with conn:\n",
    "        student_id=input(\"enter studentID to delete student records\")\n",
    "        c.execute('DELETE FROM student WHERE student_id=?',(student_id,))\n",
    "        conn.commit()\n",
    "        \n",
    "def update_studentinfo():\n",
    "    with conn:\n",
    "        student_id= input(\"enter student id of the student you want to update information on\")\n",
    "        new_value= input(\"enter new value?\")\n",
    "        #c.execute('''UPDATE student SET first_name = ? WHERE student_id = ?''', (newPrice, book_id))\n",
    "        c.execute('''UPDATE student SET first_name = ? WHERE student_id = ?''', (new_value, student_id))\n",
    "        conn.commit()\n",
    "\n",
    "\n",
    "\n",
    "#print(c.fetchone())\n",
    "tabletest()\n",
    "update_studentinfo()\n",
    "tabletest()\n",
    "\n",
    "#add_newStudent()\n",
    "\n",
    "#var= input(\"student id u wanna search\")\n",
    "#print(search_student(var))\n",
    "#x=search_student(var)\n",
    "\n",
    "\n"
   ]
  },
  {
   "cell_type": "code",
   "execution_count": 19,
   "metadata": {},
   "outputs": [
    {
     "name": "stdout",
     "output_type": "stream",
     "text": [
      "sqlite error: table classes already exists\n"
     ]
    }
   ],
   "source": [
    "try:\n",
    "    c.execute('''CREATE TABLE classes (\n",
    "        class_id text PRIMARY KEY NOT NULL,\n",
    "        class_name text NOT NULL,\n",
    "        instructor text NOT NULL)''')\n",
    "except sqlite3.OperationalError as e:\n",
    "    print('sqlite error:', e.args[0])  # table already exists\n",
    "\n",
    "conn.commit()\n"
   ]
  },
  {
   "cell_type": "code",
   "execution_count": 21,
   "metadata": {},
   "outputs": [
    {
     "name": "stdout",
     "output_type": "stream",
     "text": [
      "please enter class id numbercs1301\n",
      "enter class namec++\n",
      "enter instructor namedakota\n",
      "please enter class id numbercs3300\n",
      "enter class nameData base\n",
      "enter instructor nameyuan\n",
      "('cs1301', 'c++', 'dakota')\n",
      "('cs3300', 'Data base', 'yuan')\n"
     ]
    }
   ],
   "source": [
    "def add_newclass():\n",
    "    with conn:\n",
    "        c_id= input(\"please enter class id number\")\n",
    "        className= input(\"enter class name\")\n",
    "        instructorName= input(\"enter instructor name\")\n",
    "        #c.execute(\"INSERT INTO students VALUES('studentId', 'firstName', 'lastName')\")\n",
    "        c.execute(\"INSERT INTO classes (class_id,class_name, instructor) values (?, ?, ?)\",\n",
    "                (c_id, className, instructorName))\n",
    "\n",
    "def tabletestClass():\n",
    "    c.execute(\"SELECT* FROM classes\")\n",
    "    rows=c.fetchall()\n",
    "    \n",
    "    for row in rows:\n",
    "        print(row)\n",
    "        \n",
    "add_newclass()\n",
    "add_newclass()\n",
    "tabletestClass()"
   ]
  },
  {
   "cell_type": "code",
   "execution_count": 23,
   "metadata": {},
   "outputs": [
    {
     "name": "stdout",
     "output_type": "stream",
     "text": [
      "sqlite error: duplicate column name: class_id\n"
     ]
    }
   ],
   "source": [
    "try:\n",
    "    c.execute('''CREATE TABLE enrollment (\n",
    "        student_id text PRIMARY KEY NOT NULL,\n",
    "        class_id text NOT NULL,\n",
    "        class_id text NOT NULL,\n",
    "        class_id text NOT NULL,\n",
    "        class_id text NOT NULL,\n",
    "        class_id text NOT NULL)''')\n",
    "except sqlite3.OperationalError as e:\n",
    "    print('sqlite error:', e.args[0])  # table already exists\n",
    "\n",
    "conn.commit()\n"
   ]
  },
  {
   "cell_type": "code",
   "execution_count": null,
   "metadata": {},
   "outputs": [],
   "source": []
  }
 ],
 "metadata": {
  "kernelspec": {
   "display_name": "Python 3",
   "language": "python",
   "name": "python3"
  },
  "language_info": {
   "codemirror_mode": {
    "name": "ipython",
    "version": 3
   },
   "file_extension": ".py",
   "mimetype": "text/x-python",
   "name": "python",
   "nbconvert_exporter": "python",
   "pygments_lexer": "ipython3",
   "version": "3.6.4"
  }
 },
 "nbformat": 4,
 "nbformat_minor": 2
}
